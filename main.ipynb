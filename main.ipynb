{
 "cells": [
  {
   "cell_type": "code",
   "execution_count": 1,
   "id": "initial_id",
   "metadata": {
    "collapsed": true,
    "ExecuteTime": {
     "end_time": "2023-12-01T11:46:02.692528300Z",
     "start_time": "2023-12-01T11:46:00.699205400Z"
    }
   },
   "outputs": [],
   "source": [
    "import pandas as pd\n",
    "import numpy as np"
   ]
  },
  {
   "cell_type": "code",
   "execution_count": 4,
   "outputs": [],
   "source": [
    "data = pd.read_csv('heart_new.csv')"
   ],
   "metadata": {
    "collapsed": false,
    "ExecuteTime": {
     "end_time": "2023-11-28T07:08:35.530661500Z",
     "start_time": "2023-11-28T07:08:35.497436700Z"
    }
   },
   "id": "80ed4e58e8ca4dca"
  },
  {
   "cell_type": "code",
   "execution_count": 5,
   "outputs": [
    {
     "data": {
      "text/plain": "               age          sex           cp     trestbps        chol  \\\ncount  1025.000000  1025.000000  1025.000000  1025.000000  1025.00000   \nmean     54.434146     0.695610     0.942439   131.611707   246.00000   \nstd       9.072290     0.460373     1.029641    17.516718    51.59251   \nmin      29.000000     0.000000     0.000000    94.000000   126.00000   \n25%      48.000000     0.000000     0.000000   120.000000   211.00000   \n50%      56.000000     1.000000     1.000000   130.000000   240.00000   \n75%      61.000000     1.000000     2.000000   140.000000   275.00000   \nmax      77.000000     1.000000     3.000000   200.000000   564.00000   \n\n               fbs      restecg      thalach        exang      oldpeak  \\\ncount  1025.000000  1025.000000  1025.000000  1025.000000  1025.000000   \nmean      0.149268     0.529756   149.114146     0.336585     1.071512   \nstd       0.356527     0.527878    23.005724     0.472772     1.175053   \nmin       0.000000     0.000000    71.000000     0.000000     0.000000   \n25%       0.000000     0.000000   132.000000     0.000000     0.000000   \n50%       0.000000     1.000000   152.000000     0.000000     0.800000   \n75%       0.000000     1.000000   166.000000     1.000000     1.800000   \nmax       1.000000     2.000000   202.000000     1.000000     6.200000   \n\n             slope           ca         thal       target  \ncount  1025.000000  1025.000000  1025.000000  1025.000000  \nmean      1.385366     0.754146     2.323902     0.513171  \nstd       0.617755     1.030798     0.620660     0.500070  \nmin       0.000000     0.000000     0.000000     0.000000  \n25%       1.000000     0.000000     2.000000     0.000000  \n50%       1.000000     0.000000     2.000000     1.000000  \n75%       2.000000     1.000000     3.000000     1.000000  \nmax       2.000000     4.000000     3.000000     1.000000  ",
      "text/html": "<div>\n<style scoped>\n    .dataframe tbody tr th:only-of-type {\n        vertical-align: middle;\n    }\n\n    .dataframe tbody tr th {\n        vertical-align: top;\n    }\n\n    .dataframe thead th {\n        text-align: right;\n    }\n</style>\n<table border=\"1\" class=\"dataframe\">\n  <thead>\n    <tr style=\"text-align: right;\">\n      <th></th>\n      <th>age</th>\n      <th>sex</th>\n      <th>cp</th>\n      <th>trestbps</th>\n      <th>chol</th>\n      <th>fbs</th>\n      <th>restecg</th>\n      <th>thalach</th>\n      <th>exang</th>\n      <th>oldpeak</th>\n      <th>slope</th>\n      <th>ca</th>\n      <th>thal</th>\n      <th>target</th>\n    </tr>\n  </thead>\n  <tbody>\n    <tr>\n      <th>count</th>\n      <td>1025.000000</td>\n      <td>1025.000000</td>\n      <td>1025.000000</td>\n      <td>1025.000000</td>\n      <td>1025.00000</td>\n      <td>1025.000000</td>\n      <td>1025.000000</td>\n      <td>1025.000000</td>\n      <td>1025.000000</td>\n      <td>1025.000000</td>\n      <td>1025.000000</td>\n      <td>1025.000000</td>\n      <td>1025.000000</td>\n      <td>1025.000000</td>\n    </tr>\n    <tr>\n      <th>mean</th>\n      <td>54.434146</td>\n      <td>0.695610</td>\n      <td>0.942439</td>\n      <td>131.611707</td>\n      <td>246.00000</td>\n      <td>0.149268</td>\n      <td>0.529756</td>\n      <td>149.114146</td>\n      <td>0.336585</td>\n      <td>1.071512</td>\n      <td>1.385366</td>\n      <td>0.754146</td>\n      <td>2.323902</td>\n      <td>0.513171</td>\n    </tr>\n    <tr>\n      <th>std</th>\n      <td>9.072290</td>\n      <td>0.460373</td>\n      <td>1.029641</td>\n      <td>17.516718</td>\n      <td>51.59251</td>\n      <td>0.356527</td>\n      <td>0.527878</td>\n      <td>23.005724</td>\n      <td>0.472772</td>\n      <td>1.175053</td>\n      <td>0.617755</td>\n      <td>1.030798</td>\n      <td>0.620660</td>\n      <td>0.500070</td>\n    </tr>\n    <tr>\n      <th>min</th>\n      <td>29.000000</td>\n      <td>0.000000</td>\n      <td>0.000000</td>\n      <td>94.000000</td>\n      <td>126.00000</td>\n      <td>0.000000</td>\n      <td>0.000000</td>\n      <td>71.000000</td>\n      <td>0.000000</td>\n      <td>0.000000</td>\n      <td>0.000000</td>\n      <td>0.000000</td>\n      <td>0.000000</td>\n      <td>0.000000</td>\n    </tr>\n    <tr>\n      <th>25%</th>\n      <td>48.000000</td>\n      <td>0.000000</td>\n      <td>0.000000</td>\n      <td>120.000000</td>\n      <td>211.00000</td>\n      <td>0.000000</td>\n      <td>0.000000</td>\n      <td>132.000000</td>\n      <td>0.000000</td>\n      <td>0.000000</td>\n      <td>1.000000</td>\n      <td>0.000000</td>\n      <td>2.000000</td>\n      <td>0.000000</td>\n    </tr>\n    <tr>\n      <th>50%</th>\n      <td>56.000000</td>\n      <td>1.000000</td>\n      <td>1.000000</td>\n      <td>130.000000</td>\n      <td>240.00000</td>\n      <td>0.000000</td>\n      <td>1.000000</td>\n      <td>152.000000</td>\n      <td>0.000000</td>\n      <td>0.800000</td>\n      <td>1.000000</td>\n      <td>0.000000</td>\n      <td>2.000000</td>\n      <td>1.000000</td>\n    </tr>\n    <tr>\n      <th>75%</th>\n      <td>61.000000</td>\n      <td>1.000000</td>\n      <td>2.000000</td>\n      <td>140.000000</td>\n      <td>275.00000</td>\n      <td>0.000000</td>\n      <td>1.000000</td>\n      <td>166.000000</td>\n      <td>1.000000</td>\n      <td>1.800000</td>\n      <td>2.000000</td>\n      <td>1.000000</td>\n      <td>3.000000</td>\n      <td>1.000000</td>\n    </tr>\n    <tr>\n      <th>max</th>\n      <td>77.000000</td>\n      <td>1.000000</td>\n      <td>3.000000</td>\n      <td>200.000000</td>\n      <td>564.00000</td>\n      <td>1.000000</td>\n      <td>2.000000</td>\n      <td>202.000000</td>\n      <td>1.000000</td>\n      <td>6.200000</td>\n      <td>2.000000</td>\n      <td>4.000000</td>\n      <td>3.000000</td>\n      <td>1.000000</td>\n    </tr>\n  </tbody>\n</table>\n</div>"
     },
     "execution_count": 5,
     "metadata": {},
     "output_type": "execute_result"
    }
   ],
   "source": [
    "data.describe()\n",
    "np.reshape()"
   ],
   "metadata": {
    "collapsed": false,
    "ExecuteTime": {
     "end_time": "2023-11-28T07:08:53.238403100Z",
     "start_time": "2023-11-28T07:08:53.146544900Z"
    }
   },
   "id": "3bad2cfe5bf291bb"
  },
  {
   "cell_type": "code",
   "execution_count": null,
   "outputs": [],
   "source": [
    "data."
   ],
   "metadata": {
    "collapsed": false
   },
   "id": "fb969f86e417d9ae"
  }
 ],
 "metadata": {
  "kernelspec": {
   "display_name": "Python 3",
   "language": "python",
   "name": "python3"
  },
  "language_info": {
   "codemirror_mode": {
    "name": "ipython",
    "version": 2
   },
   "file_extension": ".py",
   "mimetype": "text/x-python",
   "name": "python",
   "nbconvert_exporter": "python",
   "pygments_lexer": "ipython2",
   "version": "2.7.6"
  }
 },
 "nbformat": 4,
 "nbformat_minor": 5
}
